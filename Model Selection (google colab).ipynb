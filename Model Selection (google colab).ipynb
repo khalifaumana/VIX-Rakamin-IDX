{
  "nbformat": 4,
  "nbformat_minor": 0,
  "metadata": {
    "colab": {
      "provenance": [],
      "gpuType": "T4"
    },
    "kernelspec": {
      "name": "python3",
      "display_name": "Python 3"
    },
    "language_info": {
      "name": "python"
    },
    "accelerator": "GPU"
  },
  "cells": [
    {
      "cell_type": "code",
      "execution_count": 1,
      "metadata": {
        "id": "CXyAs39zKOBw"
      },
      "outputs": [],
      "source": [
        "import pandas as pd\n",
        "\n",
        "from sklearn.model_selection import RepeatedStratifiedKFold\n",
        "from sklearn.metrics import classification_report, confusion_matrix, make_scorer, accuracy_score, precision_score, recall_score, f1_score\n",
        "from sklearn.model_selection import GridSearchCV, KFold, cross_val_score, cross_validate\n",
        "from sklearn.linear_model import LogisticRegression, RidgeClassifier\n",
        "from sklearn.neighbors import KNeighborsClassifier\n",
        "from sklearn.svm import SVC\n",
        "from sklearn.ensemble import BaggingClassifier"
      ]
    },
    {
      "cell_type": "code",
      "source": [
        "df = pd.read_csv('/content/drive/MyDrive/Rakamin/VIX/ID X Partner/preprocessedData.csv')\n",
        "#df.dropna(inplace=True)\n",
        "\n",
        "X = df.copy()\n",
        "X.drop(columns=['good_indicator', 'bad_indicator'], inplace=True)\n",
        "\n",
        "y = df[['bad_indicator']]"
      ],
      "metadata": {
        "id": "yTyQwI60Kbpk"
      },
      "execution_count": 2,
      "outputs": []
    },
    {
      "cell_type": "code",
      "source": [
        "from numpy import mean, std\n",
        "scoring = {'accuracy' : make_scorer(accuracy_score), \n",
        "           'precision' : make_scorer(precision_score),\n",
        "           'recall' : make_scorer(recall_score), \n",
        "           'f1_score' : make_scorer(f1_score)}\n",
        "\n",
        "\n",
        "cv = KFold(n_splits=5, random_state=1, shuffle=True)"
      ],
      "metadata": {
        "id": "R4wbTF55MScp"
      },
      "execution_count": 3,
      "outputs": []
    },
    {
      "cell_type": "code",
      "source": [
        "\n",
        "\n",
        "# create model\n",
        "model = LogisticRegression()\n",
        "# evaluate model\n",
        "scores = cross_validate(model, X, y, scoring=scoring, cv=cv, n_jobs=-1)\n",
        "# report performance\n",
        "print(pd.DataFrame(scores))"
      ],
      "metadata": {
        "colab": {
          "base_uri": "https://localhost:8080/"
        },
        "id": "QIUgG-CbKbru",
        "outputId": "677a9a4c-dcb4-43c8-e639-4e7c5d8bef97"
      },
      "execution_count": 22,
      "outputs": [
        {
          "output_type": "stream",
          "name": "stdout",
          "text": [
            "    fit_time  score_time  test_accuracy  test_precision  test_recall  \\\n",
            "0  12.822387    0.265800       0.887365        0.448276     0.001238   \n",
            "1  12.678571    0.215611       0.888565        0.380952     0.000770   \n",
            "2  13.606502    0.202637       0.888189        0.347826     0.000768   \n",
            "3  13.901028    0.196209       0.888425        0.473684     0.000865   \n",
            "4   6.852938    0.203514       0.887718        0.600000     0.000859   \n",
            "\n",
            "   test_f1_score  \n",
            "0       0.002469  \n",
            "1       0.001537  \n",
            "2       0.001532  \n",
            "3       0.001727  \n",
            "4       0.001716  \n"
          ]
        }
      ]
    },
    {
      "cell_type": "code",
      "source": [
        "cv = KFold(n_splits=5, random_state=1, shuffle=True)\n",
        "# create model\n",
        "model = RidgeClassifier()\n",
        "# evaluate model\n",
        "scores = cross_validate(model, X, y, scoring=scoring, cv=cv, n_jobs=-1)\n",
        "# report performance\n",
        "print(pd.DataFrame(scores))"
      ],
      "metadata": {
        "colab": {
          "base_uri": "https://localhost:8080/"
        },
        "id": "QE7qeyV2K-3Z",
        "outputId": "bff79689-2bb4-48a4-f488-661f7d95bd2c"
      },
      "execution_count": 23,
      "outputs": [
        {
          "output_type": "stream",
          "name": "stdout",
          "text": [
            "   fit_time  score_time  test_accuracy  test_precision  test_recall  \\\n",
            "0  1.912675    0.614593       0.887365        0.200000     0.000095   \n",
            "1  2.408061    0.510880       0.888586        0.285714     0.000193   \n",
            "2  1.650328    0.208087       0.888200        0.125000     0.000096   \n",
            "3  1.467035    0.212425       0.888436        0.500000     0.000096   \n",
            "4  0.847565    0.129089       0.887675        0.333333     0.000095   \n",
            "\n",
            "   test_f1_score  \n",
            "0       0.000190  \n",
            "1       0.000385  \n",
            "2       0.000192  \n",
            "3       0.000192  \n",
            "4       0.000191  \n"
          ]
        }
      ]
    },
    {
      "cell_type": "code",
      "source": [
        "model = BaggingClassifier()\n",
        "# evaluate model\n",
        "scores = cross_validate(model, X, y, scoring=scoring, cv=cv, n_jobs=-1)\n",
        "# report performance\n",
        "print(pd.DataFrame(scores))"
      ],
      "metadata": {
        "colab": {
          "base_uri": "https://localhost:8080/"
        },
        "id": "amjoJ32zM7x-",
        "outputId": "a3817d4e-002c-495b-f1b4-31ce1b14ad8c"
      },
      "execution_count": 24,
      "outputs": [
        {
          "output_type": "stream",
          "name": "stdout",
          "text": [
            "    fit_time  score_time  test_accuracy  test_precision  test_recall  \\\n",
            "0  94.407167    1.290144       0.881907        0.203016     0.016665   \n",
            "1  97.300902    2.778450       0.883332        0.226415     0.019640   \n",
            "2  85.479815    1.124117       0.883010        0.204819     0.016315   \n",
            "3  89.407010    1.090466       0.882646        0.202643     0.017686   \n",
            "4  53.189516    0.775180       0.881959        0.197279     0.016613   \n",
            "\n",
            "   test_f1_score  \n",
            "0       0.030802  \n",
            "1       0.036145  \n",
            "2       0.030222  \n",
            "3       0.032532  \n",
            "4       0.030645  \n"
          ]
        }
      ]
    },
    {
      "cell_type": "code",
      "source": [
        "from sklearn.ensemble import GradientBoostingClassifier\n",
        "\n",
        "model = GradientBoostingClassifier()\n",
        "# evaluate model\n",
        "scores = cross_validate(model, X, y, scoring=scoring, cv=cv, n_jobs=-1)\n",
        "# report performance\n",
        "print(pd.DataFrame(scores))"
      ],
      "metadata": {
        "colab": {
          "base_uri": "https://localhost:8080/"
        },
        "id": "LgFllY1NNgVe",
        "outputId": "89fd82e2-2332-4ebc-fcac-f580eca6ede1"
      },
      "execution_count": 25,
      "outputs": [
        {
          "output_type": "stream",
          "name": "stdout",
          "text": [
            "     fit_time  score_time  test_accuracy  test_precision  test_recall  \\\n",
            "0  188.914368    0.655466       0.887333        0.333333     0.000571   \n",
            "1  189.676118    0.697696       0.888543        0.315789     0.000578   \n",
            "2  196.346512    0.716367       0.888243        0.437500     0.000672   \n",
            "3  188.966897    1.229251       0.888404        0.200000     0.000096   \n",
            "4  110.894210    0.424938       0.887707        0.625000     0.000477   \n",
            "\n",
            "   test_f1_score  \n",
            "0       0.001141  \n",
            "1       0.001153  \n",
            "2       0.001342  \n",
            "3       0.000192  \n",
            "4       0.000954  \n"
          ]
        }
      ]
    },
    {
      "cell_type": "code",
      "source": [
        "from sklearn.ensemble import RandomForestClassifier\n",
        "\n",
        "model = RandomForestClassifier()\n",
        "# evaluate model\n",
        "scores = cross_validate(model, X, y, scoring=scoring, cv=cv, n_jobs=-1)\n",
        "# report performance\n",
        "print(pd.DataFrame(scores))"
      ],
      "metadata": {
        "colab": {
          "base_uri": "https://localhost:8080/"
        },
        "id": "hh1WLapBNgdd",
        "outputId": "ff8c5a2d-a50a-4986-ab6c-574e1a44f824"
      },
      "execution_count": 27,
      "outputs": [
        {
          "output_type": "stream",
          "name": "stdout",
          "text": [
            "     fit_time  score_time  test_accuracy  test_precision  test_recall  \\\n",
            "0  174.795557    8.183533       0.886786        0.311258     0.004476   \n",
            "1  182.348327    9.302450       0.887771        0.215827     0.002888   \n",
            "2  189.852480    8.846596       0.887482        0.241135     0.003263   \n",
            "3  177.909137    9.622566       0.887846        0.280000     0.003364   \n",
            "4  110.785471    5.441856       0.886956        0.206897     0.002291   \n",
            "\n",
            "   test_f1_score  \n",
            "0       0.008825  \n",
            "1       0.005700  \n",
            "2       0.006439  \n",
            "3       0.006648  \n",
            "4       0.004533  \n"
          ]
        }
      ]
    },
    {
      "cell_type": "code",
      "source": [
        "from sklearn.tree import DecisionTreeClassifier\n",
        "\n",
        "model = DecisionTreeClassifier()\n",
        "# evaluate model\n",
        "scores = cross_validate(model, X, y, scoring=scoring, cv=cv, n_jobs=-1)\n",
        "# report performance\n",
        "print(pd.DataFrame(scores))"
      ],
      "metadata": {
        "colab": {
          "base_uri": "https://localhost:8080/"
        },
        "id": "8ZXvFcV1Qtk3",
        "outputId": "282afb70-fcc1-4045-f144-00f7f6457313"
      },
      "execution_count": 28,
      "outputs": [
        {
          "output_type": "stream",
          "name": "stdout",
          "text": [
            "    fit_time  score_time  test_accuracy  test_precision  test_recall  \\\n",
            "0  14.201358    0.303753       0.792176        0.133058     0.153319   \n",
            "1  13.960473    0.313201       0.793740        0.139622     0.165014   \n",
            "2  13.324433    0.294850       0.792239        0.131148     0.152783   \n",
            "3  13.702845    0.319126       0.792925        0.134390     0.157343   \n",
            "4   8.651447    0.191245       0.790780        0.131594     0.154096   \n",
            "\n",
            "   test_f1_score  \n",
            "0       0.142472  \n",
            "1       0.151260  \n",
            "2       0.141141  \n",
            "3       0.144963  \n",
            "4       0.141959  \n"
          ]
        }
      ]
    },
    {
      "cell_type": "code",
      "source": [
        "model = SVC()\n",
        "# evaluate model\n",
        "scores = cross_validate(model, X, y, scoring=scoring, cv=cv, n_jobs=-1)\n",
        "# report performance\n",
        "print(pd.DataFrame(scores))"
      ],
      "metadata": {
        "id": "rj8udFRWK-7T"
      },
      "execution_count": null,
      "outputs": []
    },
    {
      "cell_type": "code",
      "source": [
        "model = KNeighborsClassifier()\n",
        "\n",
        "# evaluate model\n",
        "scores = cross_validate(model, X, y, scoring=scoring, cv=cv, n_jobs=-1)\n",
        "# report performance\n",
        "print(pd.DataFrame(scores))"
      ],
      "metadata": {
        "id": "wH6lU3eGK-_O"
      },
      "execution_count": null,
      "outputs": []
    },
    {
      "cell_type": "code",
      "source": [],
      "metadata": {
        "id": "wmV-nWq-TkpW"
      },
      "execution_count": null,
      "outputs": []
    }
  ]
}