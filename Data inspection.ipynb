{
 "cells": [
  {
   "cell_type": "code",
   "execution_count": 1,
   "metadata": {},
   "outputs": [
    {
     "name": "stderr",
     "output_type": "stream",
     "text": [
      "/var/folders/42/3d9r3rcx2vgd6bmrbmhv51k40000gn/T/ipykernel_66977/1373005959.py:5: DtypeWarning: Columns (20) have mixed types. Specify dtype option on import or set low_memory=False.\n",
      "  df = pd.read_csv('loan_data_2007_2014.csv')\n"
     ]
    }
   ],
   "source": [
    "# Data Loading\n",
    "import pandas as pd\n",
    "import dataInspectionTools as ditools\n",
    "\n",
    "df = pd.read_csv('loan_data_2007_2014.csv')\n",
    "#removing index column\n",
    "df.drop(['Unnamed: 0'], axis=1, inplace=True)"
   ]
  },
  {
   "cell_type": "code",
   "execution_count": 2,
   "metadata": {},
   "outputs": [
    {
     "data": {
      "text/html": [
       "<div>\n",
       "<style scoped>\n",
       "    .dataframe tbody tr th:only-of-type {\n",
       "        vertical-align: middle;\n",
       "    }\n",
       "\n",
       "    .dataframe tbody tr th {\n",
       "        vertical-align: top;\n",
       "    }\n",
       "\n",
       "    .dataframe thead th {\n",
       "        text-align: right;\n",
       "    }\n",
       "</style>\n",
       "<table border=\"1\" class=\"dataframe\">\n",
       "  <thead>\n",
       "    <tr style=\"text-align: right;\">\n",
       "      <th></th>\n",
       "      <th>id</th>\n",
       "      <th>member_id</th>\n",
       "      <th>loan_amnt</th>\n",
       "      <th>funded_amnt</th>\n",
       "      <th>funded_amnt_inv</th>\n",
       "      <th>term</th>\n",
       "      <th>int_rate</th>\n",
       "      <th>installment</th>\n",
       "      <th>grade</th>\n",
       "      <th>sub_grade</th>\n",
       "      <th>...</th>\n",
       "      <th>total_bal_il</th>\n",
       "      <th>il_util</th>\n",
       "      <th>open_rv_12m</th>\n",
       "      <th>open_rv_24m</th>\n",
       "      <th>max_bal_bc</th>\n",
       "      <th>all_util</th>\n",
       "      <th>total_rev_hi_lim</th>\n",
       "      <th>inq_fi</th>\n",
       "      <th>total_cu_tl</th>\n",
       "      <th>inq_last_12m</th>\n",
       "    </tr>\n",
       "  </thead>\n",
       "  <tbody>\n",
       "    <tr>\n",
       "      <th>0</th>\n",
       "      <td>1077501</td>\n",
       "      <td>1296599</td>\n",
       "      <td>5000</td>\n",
       "      <td>5000</td>\n",
       "      <td>4975.0</td>\n",
       "      <td>36 months</td>\n",
       "      <td>10.65</td>\n",
       "      <td>162.87</td>\n",
       "      <td>B</td>\n",
       "      <td>B2</td>\n",
       "      <td>...</td>\n",
       "      <td>NaN</td>\n",
       "      <td>NaN</td>\n",
       "      <td>NaN</td>\n",
       "      <td>NaN</td>\n",
       "      <td>NaN</td>\n",
       "      <td>NaN</td>\n",
       "      <td>NaN</td>\n",
       "      <td>NaN</td>\n",
       "      <td>NaN</td>\n",
       "      <td>NaN</td>\n",
       "    </tr>\n",
       "    <tr>\n",
       "      <th>1</th>\n",
       "      <td>1077430</td>\n",
       "      <td>1314167</td>\n",
       "      <td>2500</td>\n",
       "      <td>2500</td>\n",
       "      <td>2500.0</td>\n",
       "      <td>60 months</td>\n",
       "      <td>15.27</td>\n",
       "      <td>59.83</td>\n",
       "      <td>C</td>\n",
       "      <td>C4</td>\n",
       "      <td>...</td>\n",
       "      <td>NaN</td>\n",
       "      <td>NaN</td>\n",
       "      <td>NaN</td>\n",
       "      <td>NaN</td>\n",
       "      <td>NaN</td>\n",
       "      <td>NaN</td>\n",
       "      <td>NaN</td>\n",
       "      <td>NaN</td>\n",
       "      <td>NaN</td>\n",
       "      <td>NaN</td>\n",
       "    </tr>\n",
       "    <tr>\n",
       "      <th>2</th>\n",
       "      <td>1077175</td>\n",
       "      <td>1313524</td>\n",
       "      <td>2400</td>\n",
       "      <td>2400</td>\n",
       "      <td>2400.0</td>\n",
       "      <td>36 months</td>\n",
       "      <td>15.96</td>\n",
       "      <td>84.33</td>\n",
       "      <td>C</td>\n",
       "      <td>C5</td>\n",
       "      <td>...</td>\n",
       "      <td>NaN</td>\n",
       "      <td>NaN</td>\n",
       "      <td>NaN</td>\n",
       "      <td>NaN</td>\n",
       "      <td>NaN</td>\n",
       "      <td>NaN</td>\n",
       "      <td>NaN</td>\n",
       "      <td>NaN</td>\n",
       "      <td>NaN</td>\n",
       "      <td>NaN</td>\n",
       "    </tr>\n",
       "    <tr>\n",
       "      <th>3</th>\n",
       "      <td>1076863</td>\n",
       "      <td>1277178</td>\n",
       "      <td>10000</td>\n",
       "      <td>10000</td>\n",
       "      <td>10000.0</td>\n",
       "      <td>36 months</td>\n",
       "      <td>13.49</td>\n",
       "      <td>339.31</td>\n",
       "      <td>C</td>\n",
       "      <td>C1</td>\n",
       "      <td>...</td>\n",
       "      <td>NaN</td>\n",
       "      <td>NaN</td>\n",
       "      <td>NaN</td>\n",
       "      <td>NaN</td>\n",
       "      <td>NaN</td>\n",
       "      <td>NaN</td>\n",
       "      <td>NaN</td>\n",
       "      <td>NaN</td>\n",
       "      <td>NaN</td>\n",
       "      <td>NaN</td>\n",
       "    </tr>\n",
       "    <tr>\n",
       "      <th>4</th>\n",
       "      <td>1075358</td>\n",
       "      <td>1311748</td>\n",
       "      <td>3000</td>\n",
       "      <td>3000</td>\n",
       "      <td>3000.0</td>\n",
       "      <td>60 months</td>\n",
       "      <td>12.69</td>\n",
       "      <td>67.79</td>\n",
       "      <td>B</td>\n",
       "      <td>B5</td>\n",
       "      <td>...</td>\n",
       "      <td>NaN</td>\n",
       "      <td>NaN</td>\n",
       "      <td>NaN</td>\n",
       "      <td>NaN</td>\n",
       "      <td>NaN</td>\n",
       "      <td>NaN</td>\n",
       "      <td>NaN</td>\n",
       "      <td>NaN</td>\n",
       "      <td>NaN</td>\n",
       "      <td>NaN</td>\n",
       "    </tr>\n",
       "  </tbody>\n",
       "</table>\n",
       "<p>5 rows × 74 columns</p>\n",
       "</div>"
      ],
      "text/plain": [
       "        id  member_id  loan_amnt  funded_amnt  funded_amnt_inv        term  \\\n",
       "0  1077501    1296599       5000         5000           4975.0   36 months   \n",
       "1  1077430    1314167       2500         2500           2500.0   60 months   \n",
       "2  1077175    1313524       2400         2400           2400.0   36 months   \n",
       "3  1076863    1277178      10000        10000          10000.0   36 months   \n",
       "4  1075358    1311748       3000         3000           3000.0   60 months   \n",
       "\n",
       "   int_rate  installment grade sub_grade  ... total_bal_il il_util  \\\n",
       "0     10.65       162.87     B        B2  ...          NaN     NaN   \n",
       "1     15.27        59.83     C        C4  ...          NaN     NaN   \n",
       "2     15.96        84.33     C        C5  ...          NaN     NaN   \n",
       "3     13.49       339.31     C        C1  ...          NaN     NaN   \n",
       "4     12.69        67.79     B        B5  ...          NaN     NaN   \n",
       "\n",
       "  open_rv_12m  open_rv_24m max_bal_bc all_util total_rev_hi_lim inq_fi  \\\n",
       "0         NaN          NaN        NaN      NaN              NaN    NaN   \n",
       "1         NaN          NaN        NaN      NaN              NaN    NaN   \n",
       "2         NaN          NaN        NaN      NaN              NaN    NaN   \n",
       "3         NaN          NaN        NaN      NaN              NaN    NaN   \n",
       "4         NaN          NaN        NaN      NaN              NaN    NaN   \n",
       "\n",
       "  total_cu_tl inq_last_12m  \n",
       "0         NaN          NaN  \n",
       "1         NaN          NaN  \n",
       "2         NaN          NaN  \n",
       "3         NaN          NaN  \n",
       "4         NaN          NaN  \n",
       "\n",
       "[5 rows x 74 columns]"
      ]
     },
     "execution_count": 2,
     "metadata": {},
     "output_type": "execute_result"
    }
   ],
   "source": [
    "df.head()"
   ]
  },
  {
   "cell_type": "markdown",
   "metadata": {},
   "source": [
    "# Column Category"
   ]
  },
  {
   "cell_type": "code",
   "execution_count": 3,
   "metadata": {},
   "outputs": [
    {
     "name": "stdout",
     "output_type": "stream",
     "text": [
      "<class 'pandas.core.frame.DataFrame'>\n",
      "RangeIndex: 466285 entries, 0 to 466284\n",
      "Data columns (total 74 columns):\n",
      " #   Column                       Non-Null Count   Dtype  \n",
      "---  ------                       --------------   -----  \n",
      " 0   id                           466285 non-null  int64  \n",
      " 1   member_id                    466285 non-null  int64  \n",
      " 2   loan_amnt                    466285 non-null  int64  \n",
      " 3   funded_amnt                  466285 non-null  int64  \n",
      " 4   funded_amnt_inv              466285 non-null  float64\n",
      " 5   term                         466285 non-null  object \n",
      " 6   int_rate                     466285 non-null  float64\n",
      " 7   installment                  466285 non-null  float64\n",
      " 8   grade                        466285 non-null  object \n",
      " 9   sub_grade                    466285 non-null  object \n",
      " 10  emp_title                    438697 non-null  object \n",
      " 11  emp_length                   445277 non-null  object \n",
      " 12  home_ownership               466285 non-null  object \n",
      " 13  annual_inc                   466281 non-null  float64\n",
      " 14  verification_status          466285 non-null  object \n",
      " 15  issue_d                      466285 non-null  object \n",
      " 16  loan_status                  466285 non-null  object \n",
      " 17  pymnt_plan                   466285 non-null  object \n",
      " 18  url                          466285 non-null  object \n",
      " 19  desc                         125983 non-null  object \n",
      " 20  purpose                      466285 non-null  object \n",
      " 21  title                        466265 non-null  object \n",
      " 22  zip_code                     466285 non-null  object \n",
      " 23  addr_state                   466285 non-null  object \n",
      " 24  dti                          466285 non-null  float64\n",
      " 25  delinq_2yrs                  466256 non-null  float64\n",
      " 26  earliest_cr_line             466256 non-null  object \n",
      " 27  inq_last_6mths               466256 non-null  float64\n",
      " 28  mths_since_last_delinq       215934 non-null  float64\n",
      " 29  mths_since_last_record       62638 non-null   float64\n",
      " 30  open_acc                     466256 non-null  float64\n",
      " 31  pub_rec                      466256 non-null  float64\n",
      " 32  revol_bal                    466285 non-null  int64  \n",
      " 33  revol_util                   465945 non-null  float64\n",
      " 34  total_acc                    466256 non-null  float64\n",
      " 35  initial_list_status          466285 non-null  object \n",
      " 36  out_prncp                    466285 non-null  float64\n",
      " 37  out_prncp_inv                466285 non-null  float64\n",
      " 38  total_pymnt                  466285 non-null  float64\n",
      " 39  total_pymnt_inv              466285 non-null  float64\n",
      " 40  total_rec_prncp              466285 non-null  float64\n",
      " 41  total_rec_int                466285 non-null  float64\n",
      " 42  total_rec_late_fee           466285 non-null  float64\n",
      " 43  recoveries                   466285 non-null  float64\n",
      " 44  collection_recovery_fee      466285 non-null  float64\n",
      " 45  last_pymnt_d                 465909 non-null  object \n",
      " 46  last_pymnt_amnt              466285 non-null  float64\n",
      " 47  next_pymnt_d                 239071 non-null  object \n",
      " 48  last_credit_pull_d           466243 non-null  object \n",
      " 49  collections_12_mths_ex_med   466140 non-null  float64\n",
      " 50  mths_since_last_major_derog  98974 non-null   float64\n",
      " 51  policy_code                  466285 non-null  int64  \n",
      " 52  application_type             466285 non-null  object \n",
      " 53  annual_inc_joint             0 non-null       float64\n",
      " 54  dti_joint                    0 non-null       float64\n",
      " 55  verification_status_joint    0 non-null       float64\n",
      " 56  acc_now_delinq               466256 non-null  float64\n",
      " 57  tot_coll_amt                 396009 non-null  float64\n",
      " 58  tot_cur_bal                  396009 non-null  float64\n",
      " 59  open_acc_6m                  0 non-null       float64\n",
      " 60  open_il_6m                   0 non-null       float64\n",
      " 61  open_il_12m                  0 non-null       float64\n",
      " 62  open_il_24m                  0 non-null       float64\n",
      " 63  mths_since_rcnt_il           0 non-null       float64\n",
      " 64  total_bal_il                 0 non-null       float64\n",
      " 65  il_util                      0 non-null       float64\n",
      " 66  open_rv_12m                  0 non-null       float64\n",
      " 67  open_rv_24m                  0 non-null       float64\n",
      " 68  max_bal_bc                   0 non-null       float64\n",
      " 69  all_util                     0 non-null       float64\n",
      " 70  total_rev_hi_lim             396009 non-null  float64\n",
      " 71  inq_fi                       0 non-null       float64\n",
      " 72  total_cu_tl                  0 non-null       float64\n",
      " 73  inq_last_12m                 0 non-null       float64\n",
      "dtypes: float64(46), int64(6), object(22)\n",
      "memory usage: 263.3+ MB\n"
     ]
    }
   ],
   "source": [
    "df.info()"
   ]
  },
  {
   "cell_type": "markdown",
   "metadata": {},
   "source": [
    "## Numerical and categorical data\n",
    "This step will helps to divide type of data for every columns"
   ]
  },
  {
   "cell_type": "code",
   "execution_count": 4,
   "metadata": {},
   "outputs": [
    {
     "name": "stdout",
     "output_type": "stream",
     "text": [
      "there are 52 columns of numerical data. including: ['id', 'member_id', 'loan_amnt', 'funded_amnt', 'funded_amnt_inv']\n",
      "there are 22 columns of categorical data. including: ['last_pymnt_d', 'title', 'emp_length', 'zip_code', 'pymnt_plan']\n"
     ]
    }
   ],
   "source": [
    "#numeric data\n",
    "numCols, catCols = ditools.getNumericalCategorical(df)\n",
    "print('there are',str(len(numCols)),'columns of numerical data. including:',str(numCols[:5]))\n",
    "print('there are',str(len(catCols)),'columns of categorical data. including:',str(catCols[:5]))\n"
   ]
  },
  {
   "cell_type": "markdown",
   "metadata": {},
   "source": [
    "### Notes\n",
    "\n",
    "<b>52 columns</b> are having numerical data\n",
    "\n",
    "<b>22 columns</b> are having categorical data\n",
    "\n",
    "\n",
    "<br><br>\n",
    "<div class=\"alert alert-block alert-success\">\n",
    "    <b> The data can be further divided into before and after loan application </b>\n",
    "    <br>This is important to determine which columns will be used on credit risk assessment\n",
    "</div>"
   ]
  },
  {
   "cell_type": "markdown",
   "metadata": {},
   "source": [
    "# Missing Values\n",
    "\n",
    "This step will help determining which columns are actively being used and the ones that never be used."
   ]
  },
  {
   "cell_type": "markdown",
   "metadata": {},
   "source": [
    "## Missing Values Function"
   ]
  },
  {
   "cell_type": "markdown",
   "metadata": {},
   "source": [
    "## Missing Data Understanding"
   ]
  },
  {
   "cell_type": "code",
   "execution_count": 5,
   "metadata": {},
   "outputs": [
    {
     "data": {
      "text/html": [
       "<div>\n",
       "<style scoped>\n",
       "    .dataframe tbody tr th:only-of-type {\n",
       "        vertical-align: middle;\n",
       "    }\n",
       "\n",
       "    .dataframe tbody tr th {\n",
       "        vertical-align: top;\n",
       "    }\n",
       "\n",
       "    .dataframe thead th {\n",
       "        text-align: right;\n",
       "    }\n",
       "</style>\n",
       "<table border=\"1\" class=\"dataframe\">\n",
       "  <thead>\n",
       "    <tr style=\"text-align: right;\">\n",
       "      <th></th>\n",
       "      <th>column_name</th>\n",
       "      <th>missing_count</th>\n",
       "      <th>percent_missing</th>\n",
       "    </tr>\n",
       "  </thead>\n",
       "  <tbody>\n",
       "    <tr>\n",
       "      <th>0</th>\n",
       "      <td>id</td>\n",
       "      <td>0</td>\n",
       "      <td>0.000000</td>\n",
       "    </tr>\n",
       "    <tr>\n",
       "      <th>1</th>\n",
       "      <td>member_id</td>\n",
       "      <td>0</td>\n",
       "      <td>0.000000</td>\n",
       "    </tr>\n",
       "    <tr>\n",
       "      <th>2</th>\n",
       "      <td>loan_amnt</td>\n",
       "      <td>0</td>\n",
       "      <td>0.000000</td>\n",
       "    </tr>\n",
       "    <tr>\n",
       "      <th>3</th>\n",
       "      <td>funded_amnt</td>\n",
       "      <td>0</td>\n",
       "      <td>0.000000</td>\n",
       "    </tr>\n",
       "    <tr>\n",
       "      <th>4</th>\n",
       "      <td>funded_amnt_inv</td>\n",
       "      <td>0</td>\n",
       "      <td>0.000000</td>\n",
       "    </tr>\n",
       "    <tr>\n",
       "      <th>...</th>\n",
       "      <td>...</td>\n",
       "      <td>...</td>\n",
       "      <td>...</td>\n",
       "    </tr>\n",
       "    <tr>\n",
       "      <th>69</th>\n",
       "      <td>all_util</td>\n",
       "      <td>466285</td>\n",
       "      <td>100.000000</td>\n",
       "    </tr>\n",
       "    <tr>\n",
       "      <th>70</th>\n",
       "      <td>total_rev_hi_lim</td>\n",
       "      <td>70276</td>\n",
       "      <td>15.071469</td>\n",
       "    </tr>\n",
       "    <tr>\n",
       "      <th>71</th>\n",
       "      <td>inq_fi</td>\n",
       "      <td>466285</td>\n",
       "      <td>100.000000</td>\n",
       "    </tr>\n",
       "    <tr>\n",
       "      <th>72</th>\n",
       "      <td>total_cu_tl</td>\n",
       "      <td>466285</td>\n",
       "      <td>100.000000</td>\n",
       "    </tr>\n",
       "    <tr>\n",
       "      <th>73</th>\n",
       "      <td>inq_last_12m</td>\n",
       "      <td>466285</td>\n",
       "      <td>100.000000</td>\n",
       "    </tr>\n",
       "  </tbody>\n",
       "</table>\n",
       "<p>74 rows × 3 columns</p>\n",
       "</div>"
      ],
      "text/plain": [
       "         column_name  missing_count  percent_missing\n",
       "0                 id              0         0.000000\n",
       "1          member_id              0         0.000000\n",
       "2          loan_amnt              0         0.000000\n",
       "3        funded_amnt              0         0.000000\n",
       "4    funded_amnt_inv              0         0.000000\n",
       "..               ...            ...              ...\n",
       "69          all_util         466285       100.000000\n",
       "70  total_rev_hi_lim          70276        15.071469\n",
       "71            inq_fi         466285       100.000000\n",
       "72       total_cu_tl         466285       100.000000\n",
       "73      inq_last_12m         466285       100.000000\n",
       "\n",
       "[74 rows x 3 columns]"
      ]
     },
     "execution_count": 5,
     "metadata": {},
     "output_type": "execute_result"
    }
   ],
   "source": [
    "missings_cal, missing_stat = ditools.missing_info(df)\n",
    "missings_cal"
   ]
  },
  {
   "cell_type": "code",
   "execution_count": 6,
   "metadata": {},
   "outputs": [
    {
     "data": {
      "text/html": [
       "<div>\n",
       "<style scoped>\n",
       "    .dataframe tbody tr th:only-of-type {\n",
       "        vertical-align: middle;\n",
       "    }\n",
       "\n",
       "    .dataframe tbody tr th {\n",
       "        vertical-align: top;\n",
       "    }\n",
       "\n",
       "    .dataframe thead th {\n",
       "        text-align: right;\n",
       "    }\n",
       "</style>\n",
       "<table border=\"1\" class=\"dataframe\">\n",
       "  <thead>\n",
       "    <tr style=\"text-align: right;\">\n",
       "      <th></th>\n",
       "      <th>missing_category</th>\n",
       "      <th>table_number</th>\n",
       "      <th>table_list</th>\n",
       "    </tr>\n",
       "  </thead>\n",
       "  <tbody>\n",
       "    <tr>\n",
       "      <th>0</th>\n",
       "      <td>No Null</td>\n",
       "      <td>34</td>\n",
       "      <td>[id, member_id, loan_amnt, funded_amnt, funded...</td>\n",
       "    </tr>\n",
       "    <tr>\n",
       "      <th>1</th>\n",
       "      <td>Semi Null</td>\n",
       "      <td>23</td>\n",
       "      <td>[emp_title, emp_length, annual_inc, desc, titl...</td>\n",
       "    </tr>\n",
       "    <tr>\n",
       "      <th>2</th>\n",
       "      <td>Fully Null</td>\n",
       "      <td>17</td>\n",
       "      <td>[annual_inc_joint, dti_joint, verification_sta...</td>\n",
       "    </tr>\n",
       "  </tbody>\n",
       "</table>\n",
       "</div>"
      ],
      "text/plain": [
       "  missing_category  table_number  \\\n",
       "0          No Null            34   \n",
       "1        Semi Null            23   \n",
       "2       Fully Null            17   \n",
       "\n",
       "                                          table_list  \n",
       "0  [id, member_id, loan_amnt, funded_amnt, funded...  \n",
       "1  [emp_title, emp_length, annual_inc, desc, titl...  \n",
       "2  [annual_inc_joint, dti_joint, verification_sta...  "
      ]
     },
     "execution_count": 6,
     "metadata": {},
     "output_type": "execute_result"
    }
   ],
   "source": [
    "missing_stat"
   ]
  },
  {
   "cell_type": "code",
   "execution_count": 7,
   "metadata": {},
   "outputs": [
    {
     "data": {
      "text/html": [
       "<div>\n",
       "<style scoped>\n",
       "    .dataframe tbody tr th:only-of-type {\n",
       "        vertical-align: middle;\n",
       "    }\n",
       "\n",
       "    .dataframe tbody tr th {\n",
       "        vertical-align: top;\n",
       "    }\n",
       "\n",
       "    .dataframe thead th {\n",
       "        text-align: right;\n",
       "    }\n",
       "</style>\n",
       "<table border=\"1\" class=\"dataframe\">\n",
       "  <thead>\n",
       "    <tr style=\"text-align: right;\">\n",
       "      <th></th>\n",
       "      <th>column_name</th>\n",
       "      <th>missing_count</th>\n",
       "      <th>percent_missing</th>\n",
       "    </tr>\n",
       "  </thead>\n",
       "  <tbody>\n",
       "    <tr>\n",
       "      <th>10</th>\n",
       "      <td>emp_title</td>\n",
       "      <td>27588</td>\n",
       "      <td>5.916553</td>\n",
       "    </tr>\n",
       "    <tr>\n",
       "      <th>11</th>\n",
       "      <td>emp_length</td>\n",
       "      <td>21008</td>\n",
       "      <td>4.505399</td>\n",
       "    </tr>\n",
       "    <tr>\n",
       "      <th>13</th>\n",
       "      <td>annual_inc</td>\n",
       "      <td>4</td>\n",
       "      <td>0.000858</td>\n",
       "    </tr>\n",
       "    <tr>\n",
       "      <th>19</th>\n",
       "      <td>desc</td>\n",
       "      <td>340302</td>\n",
       "      <td>72.981546</td>\n",
       "    </tr>\n",
       "    <tr>\n",
       "      <th>21</th>\n",
       "      <td>title</td>\n",
       "      <td>20</td>\n",
       "      <td>0.004289</td>\n",
       "    </tr>\n",
       "    <tr>\n",
       "      <th>25</th>\n",
       "      <td>delinq_2yrs</td>\n",
       "      <td>29</td>\n",
       "      <td>0.006219</td>\n",
       "    </tr>\n",
       "    <tr>\n",
       "      <th>26</th>\n",
       "      <td>earliest_cr_line</td>\n",
       "      <td>29</td>\n",
       "      <td>0.006219</td>\n",
       "    </tr>\n",
       "    <tr>\n",
       "      <th>27</th>\n",
       "      <td>inq_last_6mths</td>\n",
       "      <td>29</td>\n",
       "      <td>0.006219</td>\n",
       "    </tr>\n",
       "    <tr>\n",
       "      <th>28</th>\n",
       "      <td>mths_since_last_delinq</td>\n",
       "      <td>250351</td>\n",
       "      <td>53.690554</td>\n",
       "    </tr>\n",
       "    <tr>\n",
       "      <th>29</th>\n",
       "      <td>mths_since_last_record</td>\n",
       "      <td>403647</td>\n",
       "      <td>86.566585</td>\n",
       "    </tr>\n",
       "    <tr>\n",
       "      <th>30</th>\n",
       "      <td>open_acc</td>\n",
       "      <td>29</td>\n",
       "      <td>0.006219</td>\n",
       "    </tr>\n",
       "    <tr>\n",
       "      <th>31</th>\n",
       "      <td>pub_rec</td>\n",
       "      <td>29</td>\n",
       "      <td>0.006219</td>\n",
       "    </tr>\n",
       "    <tr>\n",
       "      <th>33</th>\n",
       "      <td>revol_util</td>\n",
       "      <td>340</td>\n",
       "      <td>0.072917</td>\n",
       "    </tr>\n",
       "    <tr>\n",
       "      <th>34</th>\n",
       "      <td>total_acc</td>\n",
       "      <td>29</td>\n",
       "      <td>0.006219</td>\n",
       "    </tr>\n",
       "    <tr>\n",
       "      <th>45</th>\n",
       "      <td>last_pymnt_d</td>\n",
       "      <td>376</td>\n",
       "      <td>0.080637</td>\n",
       "    </tr>\n",
       "    <tr>\n",
       "      <th>47</th>\n",
       "      <td>next_pymnt_d</td>\n",
       "      <td>227214</td>\n",
       "      <td>48.728567</td>\n",
       "    </tr>\n",
       "    <tr>\n",
       "      <th>48</th>\n",
       "      <td>last_credit_pull_d</td>\n",
       "      <td>42</td>\n",
       "      <td>0.009007</td>\n",
       "    </tr>\n",
       "    <tr>\n",
       "      <th>49</th>\n",
       "      <td>collections_12_mths_ex_med</td>\n",
       "      <td>145</td>\n",
       "      <td>0.031097</td>\n",
       "    </tr>\n",
       "    <tr>\n",
       "      <th>50</th>\n",
       "      <td>mths_since_last_major_derog</td>\n",
       "      <td>367311</td>\n",
       "      <td>78.773926</td>\n",
       "    </tr>\n",
       "    <tr>\n",
       "      <th>53</th>\n",
       "      <td>annual_inc_joint</td>\n",
       "      <td>466285</td>\n",
       "      <td>100.000000</td>\n",
       "    </tr>\n",
       "    <tr>\n",
       "      <th>54</th>\n",
       "      <td>dti_joint</td>\n",
       "      <td>466285</td>\n",
       "      <td>100.000000</td>\n",
       "    </tr>\n",
       "    <tr>\n",
       "      <th>55</th>\n",
       "      <td>verification_status_joint</td>\n",
       "      <td>466285</td>\n",
       "      <td>100.000000</td>\n",
       "    </tr>\n",
       "    <tr>\n",
       "      <th>56</th>\n",
       "      <td>acc_now_delinq</td>\n",
       "      <td>29</td>\n",
       "      <td>0.006219</td>\n",
       "    </tr>\n",
       "    <tr>\n",
       "      <th>57</th>\n",
       "      <td>tot_coll_amt</td>\n",
       "      <td>70276</td>\n",
       "      <td>15.071469</td>\n",
       "    </tr>\n",
       "    <tr>\n",
       "      <th>58</th>\n",
       "      <td>tot_cur_bal</td>\n",
       "      <td>70276</td>\n",
       "      <td>15.071469</td>\n",
       "    </tr>\n",
       "    <tr>\n",
       "      <th>59</th>\n",
       "      <td>open_acc_6m</td>\n",
       "      <td>466285</td>\n",
       "      <td>100.000000</td>\n",
       "    </tr>\n",
       "    <tr>\n",
       "      <th>60</th>\n",
       "      <td>open_il_6m</td>\n",
       "      <td>466285</td>\n",
       "      <td>100.000000</td>\n",
       "    </tr>\n",
       "    <tr>\n",
       "      <th>61</th>\n",
       "      <td>open_il_12m</td>\n",
       "      <td>466285</td>\n",
       "      <td>100.000000</td>\n",
       "    </tr>\n",
       "    <tr>\n",
       "      <th>62</th>\n",
       "      <td>open_il_24m</td>\n",
       "      <td>466285</td>\n",
       "      <td>100.000000</td>\n",
       "    </tr>\n",
       "    <tr>\n",
       "      <th>63</th>\n",
       "      <td>mths_since_rcnt_il</td>\n",
       "      <td>466285</td>\n",
       "      <td>100.000000</td>\n",
       "    </tr>\n",
       "    <tr>\n",
       "      <th>64</th>\n",
       "      <td>total_bal_il</td>\n",
       "      <td>466285</td>\n",
       "      <td>100.000000</td>\n",
       "    </tr>\n",
       "    <tr>\n",
       "      <th>65</th>\n",
       "      <td>il_util</td>\n",
       "      <td>466285</td>\n",
       "      <td>100.000000</td>\n",
       "    </tr>\n",
       "    <tr>\n",
       "      <th>66</th>\n",
       "      <td>open_rv_12m</td>\n",
       "      <td>466285</td>\n",
       "      <td>100.000000</td>\n",
       "    </tr>\n",
       "    <tr>\n",
       "      <th>67</th>\n",
       "      <td>open_rv_24m</td>\n",
       "      <td>466285</td>\n",
       "      <td>100.000000</td>\n",
       "    </tr>\n",
       "    <tr>\n",
       "      <th>68</th>\n",
       "      <td>max_bal_bc</td>\n",
       "      <td>466285</td>\n",
       "      <td>100.000000</td>\n",
       "    </tr>\n",
       "    <tr>\n",
       "      <th>69</th>\n",
       "      <td>all_util</td>\n",
       "      <td>466285</td>\n",
       "      <td>100.000000</td>\n",
       "    </tr>\n",
       "    <tr>\n",
       "      <th>70</th>\n",
       "      <td>total_rev_hi_lim</td>\n",
       "      <td>70276</td>\n",
       "      <td>15.071469</td>\n",
       "    </tr>\n",
       "    <tr>\n",
       "      <th>71</th>\n",
       "      <td>inq_fi</td>\n",
       "      <td>466285</td>\n",
       "      <td>100.000000</td>\n",
       "    </tr>\n",
       "    <tr>\n",
       "      <th>72</th>\n",
       "      <td>total_cu_tl</td>\n",
       "      <td>466285</td>\n",
       "      <td>100.000000</td>\n",
       "    </tr>\n",
       "    <tr>\n",
       "      <th>73</th>\n",
       "      <td>inq_last_12m</td>\n",
       "      <td>466285</td>\n",
       "      <td>100.000000</td>\n",
       "    </tr>\n",
       "  </tbody>\n",
       "</table>\n",
       "</div>"
      ],
      "text/plain": [
       "                    column_name  missing_count  percent_missing\n",
       "10                    emp_title          27588         5.916553\n",
       "11                   emp_length          21008         4.505399\n",
       "13                   annual_inc              4         0.000858\n",
       "19                         desc         340302        72.981546\n",
       "21                        title             20         0.004289\n",
       "25                  delinq_2yrs             29         0.006219\n",
       "26             earliest_cr_line             29         0.006219\n",
       "27               inq_last_6mths             29         0.006219\n",
       "28       mths_since_last_delinq         250351        53.690554\n",
       "29       mths_since_last_record         403647        86.566585\n",
       "30                     open_acc             29         0.006219\n",
       "31                      pub_rec             29         0.006219\n",
       "33                   revol_util            340         0.072917\n",
       "34                    total_acc             29         0.006219\n",
       "45                 last_pymnt_d            376         0.080637\n",
       "47                 next_pymnt_d         227214        48.728567\n",
       "48           last_credit_pull_d             42         0.009007\n",
       "49   collections_12_mths_ex_med            145         0.031097\n",
       "50  mths_since_last_major_derog         367311        78.773926\n",
       "53             annual_inc_joint         466285       100.000000\n",
       "54                    dti_joint         466285       100.000000\n",
       "55    verification_status_joint         466285       100.000000\n",
       "56               acc_now_delinq             29         0.006219\n",
       "57                 tot_coll_amt          70276        15.071469\n",
       "58                  tot_cur_bal          70276        15.071469\n",
       "59                  open_acc_6m         466285       100.000000\n",
       "60                   open_il_6m         466285       100.000000\n",
       "61                  open_il_12m         466285       100.000000\n",
       "62                  open_il_24m         466285       100.000000\n",
       "63           mths_since_rcnt_il         466285       100.000000\n",
       "64                 total_bal_il         466285       100.000000\n",
       "65                      il_util         466285       100.000000\n",
       "66                  open_rv_12m         466285       100.000000\n",
       "67                  open_rv_24m         466285       100.000000\n",
       "68                   max_bal_bc         466285       100.000000\n",
       "69                     all_util         466285       100.000000\n",
       "70             total_rev_hi_lim          70276        15.071469\n",
       "71                       inq_fi         466285       100.000000\n",
       "72                  total_cu_tl         466285       100.000000\n",
       "73                 inq_last_12m         466285       100.000000"
      ]
     },
     "execution_count": 7,
     "metadata": {},
     "output_type": "execute_result"
    }
   ],
   "source": [
    "#showing only missing columns\n",
    "missings_cal[missings_cal['missing_count'] != 0]"
   ]
  },
  {
   "cell_type": "code",
   "execution_count": 8,
   "metadata": {},
   "outputs": [
    {
     "data": {
      "text/html": [
       "<div>\n",
       "<style scoped>\n",
       "    .dataframe tbody tr th:only-of-type {\n",
       "        vertical-align: middle;\n",
       "    }\n",
       "\n",
       "    .dataframe tbody tr th {\n",
       "        vertical-align: top;\n",
       "    }\n",
       "\n",
       "    .dataframe thead th {\n",
       "        text-align: right;\n",
       "    }\n",
       "</style>\n",
       "<table border=\"1\" class=\"dataframe\">\n",
       "  <thead>\n",
       "    <tr style=\"text-align: right;\">\n",
       "      <th></th>\n",
       "      <th>column_name</th>\n",
       "      <th>missing_count</th>\n",
       "      <th>percent_missing</th>\n",
       "    </tr>\n",
       "  </thead>\n",
       "  <tbody>\n",
       "    <tr>\n",
       "      <th>29</th>\n",
       "      <td>mths_since_last_record</td>\n",
       "      <td>403647</td>\n",
       "      <td>86.566585</td>\n",
       "    </tr>\n",
       "    <tr>\n",
       "      <th>50</th>\n",
       "      <td>mths_since_last_major_derog</td>\n",
       "      <td>367311</td>\n",
       "      <td>78.773926</td>\n",
       "    </tr>\n",
       "    <tr>\n",
       "      <th>19</th>\n",
       "      <td>desc</td>\n",
       "      <td>340302</td>\n",
       "      <td>72.981546</td>\n",
       "    </tr>\n",
       "    <tr>\n",
       "      <th>28</th>\n",
       "      <td>mths_since_last_delinq</td>\n",
       "      <td>250351</td>\n",
       "      <td>53.690554</td>\n",
       "    </tr>\n",
       "    <tr>\n",
       "      <th>47</th>\n",
       "      <td>next_pymnt_d</td>\n",
       "      <td>227214</td>\n",
       "      <td>48.728567</td>\n",
       "    </tr>\n",
       "    <tr>\n",
       "      <th>70</th>\n",
       "      <td>total_rev_hi_lim</td>\n",
       "      <td>70276</td>\n",
       "      <td>15.071469</td>\n",
       "    </tr>\n",
       "    <tr>\n",
       "      <th>58</th>\n",
       "      <td>tot_cur_bal</td>\n",
       "      <td>70276</td>\n",
       "      <td>15.071469</td>\n",
       "    </tr>\n",
       "    <tr>\n",
       "      <th>57</th>\n",
       "      <td>tot_coll_amt</td>\n",
       "      <td>70276</td>\n",
       "      <td>15.071469</td>\n",
       "    </tr>\n",
       "    <tr>\n",
       "      <th>10</th>\n",
       "      <td>emp_title</td>\n",
       "      <td>27588</td>\n",
       "      <td>5.916553</td>\n",
       "    </tr>\n",
       "    <tr>\n",
       "      <th>11</th>\n",
       "      <td>emp_length</td>\n",
       "      <td>21008</td>\n",
       "      <td>4.505399</td>\n",
       "    </tr>\n",
       "    <tr>\n",
       "      <th>45</th>\n",
       "      <td>last_pymnt_d</td>\n",
       "      <td>376</td>\n",
       "      <td>0.080637</td>\n",
       "    </tr>\n",
       "    <tr>\n",
       "      <th>33</th>\n",
       "      <td>revol_util</td>\n",
       "      <td>340</td>\n",
       "      <td>0.072917</td>\n",
       "    </tr>\n",
       "    <tr>\n",
       "      <th>49</th>\n",
       "      <td>collections_12_mths_ex_med</td>\n",
       "      <td>145</td>\n",
       "      <td>0.031097</td>\n",
       "    </tr>\n",
       "    <tr>\n",
       "      <th>48</th>\n",
       "      <td>last_credit_pull_d</td>\n",
       "      <td>42</td>\n",
       "      <td>0.009007</td>\n",
       "    </tr>\n",
       "    <tr>\n",
       "      <th>27</th>\n",
       "      <td>inq_last_6mths</td>\n",
       "      <td>29</td>\n",
       "      <td>0.006219</td>\n",
       "    </tr>\n",
       "    <tr>\n",
       "      <th>30</th>\n",
       "      <td>open_acc</td>\n",
       "      <td>29</td>\n",
       "      <td>0.006219</td>\n",
       "    </tr>\n",
       "    <tr>\n",
       "      <th>34</th>\n",
       "      <td>total_acc</td>\n",
       "      <td>29</td>\n",
       "      <td>0.006219</td>\n",
       "    </tr>\n",
       "    <tr>\n",
       "      <th>26</th>\n",
       "      <td>earliest_cr_line</td>\n",
       "      <td>29</td>\n",
       "      <td>0.006219</td>\n",
       "    </tr>\n",
       "    <tr>\n",
       "      <th>25</th>\n",
       "      <td>delinq_2yrs</td>\n",
       "      <td>29</td>\n",
       "      <td>0.006219</td>\n",
       "    </tr>\n",
       "    <tr>\n",
       "      <th>56</th>\n",
       "      <td>acc_now_delinq</td>\n",
       "      <td>29</td>\n",
       "      <td>0.006219</td>\n",
       "    </tr>\n",
       "    <tr>\n",
       "      <th>31</th>\n",
       "      <td>pub_rec</td>\n",
       "      <td>29</td>\n",
       "      <td>0.006219</td>\n",
       "    </tr>\n",
       "    <tr>\n",
       "      <th>21</th>\n",
       "      <td>title</td>\n",
       "      <td>20</td>\n",
       "      <td>0.004289</td>\n",
       "    </tr>\n",
       "    <tr>\n",
       "      <th>13</th>\n",
       "      <td>annual_inc</td>\n",
       "      <td>4</td>\n",
       "      <td>0.000858</td>\n",
       "    </tr>\n",
       "  </tbody>\n",
       "</table>\n",
       "</div>"
      ],
      "text/plain": [
       "                    column_name  missing_count  percent_missing\n",
       "29       mths_since_last_record         403647        86.566585\n",
       "50  mths_since_last_major_derog         367311        78.773926\n",
       "19                         desc         340302        72.981546\n",
       "28       mths_since_last_delinq         250351        53.690554\n",
       "47                 next_pymnt_d         227214        48.728567\n",
       "70             total_rev_hi_lim          70276        15.071469\n",
       "58                  tot_cur_bal          70276        15.071469\n",
       "57                 tot_coll_amt          70276        15.071469\n",
       "10                    emp_title          27588         5.916553\n",
       "11                   emp_length          21008         4.505399\n",
       "45                 last_pymnt_d            376         0.080637\n",
       "33                   revol_util            340         0.072917\n",
       "49   collections_12_mths_ex_med            145         0.031097\n",
       "48           last_credit_pull_d             42         0.009007\n",
       "27               inq_last_6mths             29         0.006219\n",
       "30                     open_acc             29         0.006219\n",
       "34                    total_acc             29         0.006219\n",
       "26             earliest_cr_line             29         0.006219\n",
       "25                  delinq_2yrs             29         0.006219\n",
       "56               acc_now_delinq             29         0.006219\n",
       "31                      pub_rec             29         0.006219\n",
       "21                        title             20         0.004289\n",
       "13                   annual_inc              4         0.000858"
      ]
     },
     "execution_count": 8,
     "metadata": {},
     "output_type": "execute_result"
    }
   ],
   "source": [
    "#showing only missing columns and not entirely missing (100%)\n",
    "missings_cal[((missings_cal['missing_count'] != 0) & (missings_cal['percent_missing'] != 100))].sort_values(by='percent_missing', ascending=False)"
   ]
  },
  {
   "cell_type": "markdown",
   "metadata": {},
   "source": [
    "### TOP 5 missing columns\n",
    "\n",
    "| Table Name | Table Description | Missing percentage |\n",
    "| --- | --- | --- |\n",
    "| mths_since_last_record | The number of months since the last public record. | 84.6% |\n",
    "| mths_since_last_major_derog | Months since most recent 90-day or worse rating. | 78.8% |\n",
    "| desc | Loan description provided by the borrower. | 73% |\n",
    "| mths_since_last_delinq | The number of months since the borrower's last delinquency. | 53.7% |\n",
    "| next_pymnt_d | Next scheduled payment date | 48.7% |\n",
    "\n",
    "\n",
    "<b> Hypothesis based on description </b>\n",
    "\n",
    "\n",
    "- <b>mths_since_last_record</b> \\\n",
    "No activity/input of public record for the user \n",
    "\n",
    "\n",
    "- <b>mths_since_last_major_derog</b>\\\n",
    "No input/record for derogatory of the user\n",
    "\n",
    "\n",
    "- <b>desc</b>\\\n",
    "User give no description for their loans\n",
    "\n",
    "\n",
    "- <b>mths_since_last_delinq</b>\\\n",
    "No input/record for delinquency of the user\n",
    "\n",
    "\n",
    "- <b>next_pymnt_d</b>\\\n",
    "No more payments needed (Check 'loan_status' column)"
   ]
  },
  {
   "cell_type": "markdown",
   "metadata": {},
   "source": [
    "# Business Understanding\n",
    "This part is to explore the business flow based on the available data"
   ]
  },
  {
   "cell_type": "markdown",
   "metadata": {},
   "source": [
    "First step, We want to make sure that we only inspect active columns.\n",
    "\n",
    "this means all the fully null will be eliminated."
   ]
  },
  {
   "cell_type": "code",
   "execution_count": 9,
   "metadata": {},
   "outputs": [],
   "source": [
    "fullColumn = missing_stat[missing_stat['missing_category'] == 'No Null'].table_list.values[0]\n",
    "semiNullColumn = missing_stat[missing_stat['missing_category'] == 'Semi Null'].table_list.values[0]"
   ]
  },
  {
   "cell_type": "markdown",
   "metadata": {},
   "source": [
    "Next step is to inspect the columns. This might need to be done manually as there is no automated way available yet.\n",
    "\n",
    "Since the data is regards to loan, we will build a hypothesis first with general knowledge of loans application.\n",
    "\n",
    "Assuming the model of loan application used by the company is the common way there will be several steps for activity within the business:\n",
    "1. The user/borrower apply to a loan\n",
    "2. Additional data regarding user will be acquired\n",
    "3. Lender will assess the data and gives loan based on the assesment\n",
    "4. Borrower will repay periodically\n",
    "5. In the case of borrower are not able to pay in certain amount of time, late fees will be charged\n",
    "6. Recovery action will be proceeded for defaulted loan\n",
    "\n",
    "<br><br>\n",
    "<b> Hypothesis </b>\n",
    "> The process of data acquiring can be divided into 3 phase: Before loan, while loan active, after loan\n",
    "\n",
    "This helps to determine which data can be used for early credit risk assesment as we want to focus on what data can be gathered to assess future borrower.\n",
    "\n",
    "This categorization can be narrowed down into 2 category as we want to focus on assessing the user. These catefories are : Assesment data and loan activity data.\n",
    "\n",
    "- Assesment data\n",
    "<br>    this data is acquired <b>before or during</b> the approval of loan\n",
    "- Loan activity data\n",
    "<br>    this data is acquired <b>after</b> the approval of loan"
   ]
  },
  {
   "cell_type": "markdown",
   "metadata": {},
   "source": [
    "## Columns manual inspection\n",
    "in this phase, the columns will be observed and categorized based on the data acquiring. The decision will be based on the description of the columns.\n",
    "\n",
    "To improve the clarity, the columns that will be inspected is going to be 5 at a time."
   ]
  },
  {
   "cell_type": "code",
   "execution_count": 10,
   "metadata": {},
   "outputs": [],
   "source": [
    "assementDataColumns = []\n",
    "loanActivityDataColumns = []"
   ]
  },
  {
   "cell_type": "markdown",
   "metadata": {},
   "source": [
    "### fullColumn category"
   ]
  },
  {
   "cell_type": "code",
   "execution_count": 11,
   "metadata": {},
   "outputs": [
    {
     "data": {
      "text/plain": [
       "['id', 'member_id', 'loan_amnt', 'funded_amnt', 'funded_amnt_inv']"
      ]
     },
     "execution_count": 11,
     "metadata": {},
     "output_type": "execute_result"
    }
   ],
   "source": [
    "# 1-5\n",
    "fullColumn[:5]"
   ]
  },
  {
   "cell_type": "markdown",
   "metadata": {},
   "source": [
    "| Table Name | Table Description | Category |\n",
    "| --- | --- | --- |\n",
    "| id | A unique LC assigned ID for the loan listing. | Assesment data |\n",
    "| member_id | A unique LC assigned Id for the borrower member. | Assesment data |\n",
    "| loan_amnt | The listed amount of the loan applied for by the borrower. If at some point in time, the credit department reduces the loan amount, then it will be reflected in this value. | Assesment data |\n",
    "| funded_amnt | The total amount committed to that loan at that point in time. | Loan activity data |\n",
    "| funded_amnt_inv | (Assumption) The same as funded_amnt but by investor  | Loan activity data |\n",
    "\n",
    "<br><br>\n",
    "<b>Notes</b> :\n",
    "- id and member_id will be assigned directly in case of loan applied and member registered\n",
    "- loan_amnt might be changed by LC but essentially it filled before the loan is active\n",
    "- funded_amnt and funded_amnt_inv is the number commited to the loan therefore it's more related to Loan activity data"
   ]
  },
  {
   "cell_type": "code",
   "execution_count": 12,
   "metadata": {},
   "outputs": [],
   "source": [
    "assementDataColumns.extend(['id', 'member_id', 'loan_amnt'])\n",
    "loanActivityDataColumns.extend(['funded_amnt', 'funded_amnt_inv'])"
   ]
  },
  {
   "cell_type": "code",
   "execution_count": 13,
   "metadata": {},
   "outputs": [
    {
     "data": {
      "text/plain": [
       "['term', 'int_rate', 'installment', 'grade', 'sub_grade']"
      ]
     },
     "execution_count": 13,
     "metadata": {},
     "output_type": "execute_result"
    }
   ],
   "source": [
    "# 6-10\n",
    "fullColumn[5:10]"
   ]
  },
  {
   "cell_type": "markdown",
   "metadata": {},
   "source": [
    "| Table Name | Table Description | Category |\n",
    "| --- | --- | --- |\n",
    "| term | The number of payments on the loan. Values are in months and can be either 36 or 60. | Assesment data |\n",
    "| int_rate | interest rate | Loan activity data |\n",
    "| installment | The monthly payment owed by the borrower if the loan originates. | Loan activity data |\n",
    "| grade | LC assigned loan grade | Loan activity data |\n",
    "| sub_grade | LC assigned loan subgrade | Loan activity data |\n",
    "\n",
    "<br><br>\n",
    "<b>Notes</b> :\n",
    "- since term is more likely is input by the user it categorized to Assesment data\n",
    "- int_rate and installment indicates of the borrower repay activities therefore it will be Loan activity data\n",
    "- grade and sub_grade is assigned by LC on the assessment thus belong to Loan activity data."
   ]
  },
  {
   "cell_type": "code",
   "execution_count": 14,
   "metadata": {},
   "outputs": [],
   "source": [
    "assementDataColumns.extend(['term'])\n",
    "loanActivityDataColumns.extend(['int_rate', 'installment', 'grade', 'sub_grade'])"
   ]
  },
  {
   "cell_type": "code",
   "execution_count": 15,
   "metadata": {},
   "outputs": [
    {
     "data": {
      "text/plain": [
       "['home_ownership',\n",
       " 'verification_status',\n",
       " 'issue_d',\n",
       " 'loan_status',\n",
       " 'pymnt_plan']"
      ]
     },
     "execution_count": 15,
     "metadata": {},
     "output_type": "execute_result"
    }
   ],
   "source": [
    "# 6-10\n",
    "fullColumn[10:15]"
   ]
  },
  {
   "cell_type": "markdown",
   "metadata": {},
   "source": [
    "| Table Name | Table Description | Category |\n",
    "| --- | --- | --- |\n",
    "| home_ownership | The home ownership status provided by the borrower during registration. Our values are: RENT, OWN, MORTGAGE, OTHER. | Assesment data |\n",
    "| verification_status |  |  |\n",
    "| issue_d | The month which the loan was funded. | Loan activity data |\n",
    "| loan_status | Current status of the loan | Loan activity data |\n",
    "| pymnt_plan |  |  |\n",
    "\n",
    "<br><br>\n",
    "<b>Notes</b> :\n",
    "- As home_ownership provided by the user, it belongs to Assesment data\n",
    "- issue_d and loan_status will be available after the loan approved so it will belong to Loan activity data.\n",
    "- loan_status column may helps to determine the risk assesment for the borrower\n",
    "- verification_status and pymnt_plan does not have any description futher inspection needed"
   ]
  },
  {
   "cell_type": "code",
   "execution_count": 16,
   "metadata": {},
   "outputs": [
    {
     "data": {
      "text/plain": [
       "Verified           168055\n",
       "Source Verified    149993\n",
       "Not Verified       148237\n",
       "Name: verification_status, dtype: int64"
      ]
     },
     "execution_count": 16,
     "metadata": {},
     "output_type": "execute_result"
    }
   ],
   "source": [
    "df['verification_status'].value_counts()"
   ]
  },
  {
   "cell_type": "code",
   "execution_count": 17,
   "metadata": {},
   "outputs": [
    {
     "data": {
      "text/plain": [
       "n    466276\n",
       "y         9\n",
       "Name: pymnt_plan, dtype: int64"
      ]
     },
     "execution_count": 17,
     "metadata": {},
     "output_type": "execute_result"
    }
   ],
   "source": [
    "df['pymnt_plan'].value_counts()"
   ]
  },
  {
   "cell_type": "markdown",
   "metadata": {},
   "source": [
    "<b>Further notes</b> :\n",
    "- verification_status may regards to the confirmation of specific data verification, this still ambiguous, but it can be assumed that it belongs to Assesment data as it will be used for the application approval\n",
    "- y and n answer only indicates that as a yes and no question, therefore it possibly comes from option that user choose so it can also be assumed that it belongs to Assesment data"
   ]
  },
  {
   "cell_type": "code",
   "execution_count": 18,
   "metadata": {},
   "outputs": [],
   "source": [
    "assementDataColumns.extend(['home_ownership', 'verification_status', 'pymnt_plan'])\n",
    "loanActivityDataColumns.extend(['issue_d', 'loan_status'])"
   ]
  },
  {
   "cell_type": "code",
   "execution_count": 19,
   "metadata": {},
   "outputs": [
    {
     "data": {
      "text/plain": [
       "['url', 'purpose', 'zip_code', 'addr_state', 'dti']"
      ]
     },
     "execution_count": 19,
     "metadata": {},
     "output_type": "execute_result"
    }
   ],
   "source": [
    "# 16-20\n",
    "fullColumn[15:20]"
   ]
  },
  {
   "cell_type": "markdown",
   "metadata": {},
   "source": [
    "| Table Name | Table Description | Category |\n",
    "| --- | --- | --- |\n",
    "| url | URL for the LC page with listing data. | Assesment data |\n",
    "| purpose | A category provided by the borrower for the loan request.  | Assesment data |\n",
    "| zip_code | The first 3 numbers of the zip code provided by the borrower in the loan application. | Assesment data |\n",
    "| addr_state | The state provided by the borrower in the loan application | Assesment data |\n",
    "| dti | A ratio calculated using the borrower’s total monthly debt payments on the total debt obligations, excluding mortgage and the requested LC loan, divided by the borrower’s self-reported monthly income. | Assesment data |\n",
    "\n",
    "<br><br>\n",
    "<b>Notes</b> :\n",
    "- All these 5 are categorized to assesment data, reasoning:\n",
    "    - url are automatically inputed after the user create a loan application\n",
    "    - purpose, zip_code, and addr_state are data input provided by the user\n",
    "    - dti is the calculation using formula at the description"
   ]
  },
  {
   "cell_type": "code",
   "execution_count": 20,
   "metadata": {},
   "outputs": [],
   "source": [
    "assementDataColumns.extend(fullColumn[15:20])"
   ]
  },
  {
   "cell_type": "code",
   "execution_count": 21,
   "metadata": {},
   "outputs": [
    {
     "data": {
      "text/plain": [
       "['revol_bal',\n",
       " 'initial_list_status',\n",
       " 'out_prncp',\n",
       " 'out_prncp_inv',\n",
       " 'total_pymnt']"
      ]
     },
     "execution_count": 21,
     "metadata": {},
     "output_type": "execute_result"
    }
   ],
   "source": [
    "# 21-25\n",
    "fullColumn[20:25]"
   ]
  },
  {
   "cell_type": "markdown",
   "metadata": {},
   "source": [
    "| Table Name | Table Description | Category |\n",
    "| --- | --- | --- |\n",
    "| revol_bal | Total credit revolving balance. | Loan activity data |\n",
    "| initial_list_status | The initial listing status of the loan. Possible values are – Whole, Fractional  | Loan activity data |\n",
    "| out_prncp | Remaining outstanding principal for total amount funded | Loan activity data |\n",
    "| out_prncp_inv | Remaining outstanding principal for portion of total amount funded by investors | Loan activity data |\n",
    "| total_pymnt | Payments received to date for total amount funded | Loan activity data |\n",
    "\n",
    "<br><br>\n",
    "<b>Notes</b> :\n",
    "- All these 5 are categorized to Loan activity data, reasoning:\n",
    "    - revol_bal, out_prncp, out_prncp_inv, and total_pymnt are current status of the loan (after approval)\n",
    "    - initial_list_status is assumed to be declared after the loan approval"
   ]
  },
  {
   "cell_type": "code",
   "execution_count": 22,
   "metadata": {},
   "outputs": [],
   "source": [
    "loanActivityDataColumns.extend(fullColumn[20:25])"
   ]
  },
  {
   "cell_type": "code",
   "execution_count": 23,
   "metadata": {},
   "outputs": [
    {
     "data": {
      "text/plain": [
       "['total_pymnt_inv',\n",
       " 'total_rec_prncp',\n",
       " 'total_rec_int',\n",
       " 'total_rec_late_fee',\n",
       " 'recoveries']"
      ]
     },
     "execution_count": 23,
     "metadata": {},
     "output_type": "execute_result"
    }
   ],
   "source": [
    "# 25-30\n",
    "fullColumn[25:30]"
   ]
  },
  {
   "cell_type": "markdown",
   "metadata": {},
   "source": [
    "| Table Name | Table Description | Category |\n",
    "| --- | --- | --- |\n",
    "| total_pymnt_inv | Payments received to date for portion of total amount funded by investors | Loan activity data |\n",
    "| total_rec_prncp | Principal received to date | Loan activity data |\n",
    "| total_rec_int | Interest received to date | Loan activity data |\n",
    "| total_rec_late_fee | Late fees received to date | Loan activity data |\n",
    "| recoveries | Indicates if a payment plan has been put in place for the loan | Loan activity data |\n",
    "\n",
    "<br><br>\n",
    "<b>Notes</b> :\n",
    "- 4 columsn are categorized to Loan activity data, reasoning:\n",
    "    - total_pymnt_inv is similar to total_pymnt which part of it but dedicated for investor's fund\n",
    "    - total_rec_prncp, total_rec_int, and total_rec_late_fee are dynamic data that updated in every transaction (repay) after loan approval\n",
    "- recoveries needs to be inspected further"
   ]
  },
  {
   "cell_type": "code",
   "execution_count": 24,
   "metadata": {},
   "outputs": [
    {
     "data": {
      "text/plain": [
       "0.00       441914\n",
       "14.28           9\n",
       "11.70           9\n",
       "200.00          9\n",
       "10.00           9\n",
       "            ...  \n",
       "423.23          1\n",
       "2311.77         1\n",
       "850.18          1\n",
       "5052.98         1\n",
       "1159.40         1\n",
       "Name: recoveries, Length: 22773, dtype: int64"
      ]
     },
     "execution_count": 24,
     "metadata": {},
     "output_type": "execute_result"
    }
   ],
   "source": [
    "df['recoveries'].value_counts()"
   ]
  },
  {
   "cell_type": "markdown",
   "metadata": {},
   "source": [
    "<b>Further notes</b> :\n",
    "- it seems recoveries description does not match with what data provided but as recovery actions are only taken after loan are defaulted, it safe to assume that it categorized into Loan activity data"
   ]
  },
  {
   "cell_type": "code",
   "execution_count": 25,
   "metadata": {},
   "outputs": [],
   "source": [
    "loanActivityDataColumns.extend(fullColumn[25:30])"
   ]
  },
  {
   "cell_type": "code",
   "execution_count": 26,
   "metadata": {},
   "outputs": [
    {
     "data": {
      "text/plain": [
       "['collection_recovery_fee',\n",
       " 'last_pymnt_amnt',\n",
       " 'policy_code',\n",
       " 'application_type']"
      ]
     },
     "execution_count": 26,
     "metadata": {},
     "output_type": "execute_result"
    }
   ],
   "source": [
    "# 31-34\n",
    "fullColumn[30:]"
   ]
  },
  {
   "cell_type": "markdown",
   "metadata": {},
   "source": [
    "| Table Name | Table Description | Category |\n",
    "| --- | --- | --- |\n",
    "| collection_recovery_fee | post charge off collection fee | Loan activity data |\n",
    "| last_pymnt_amnt | Last total payment amount received | Loan activity data |\n",
    "| policy_code | publicly available policy_code=1, new products not publicly available policy_code=2 |  |\n",
    "| application_type | Indicates whether the loan is an individual application or a joint application with two co-borrowers | Assesment data |\n",
    "\n",
    "<br><br>\n",
    "<b>Notes</b> :\n",
    "- collection_recovery_fee and last_pymnt_amnt indicated to be the data that will only have input after the loan approved therefore it will belong into Loan activity data\n",
    "- policy_code here still does not described clearly as what is piblicly available and what is not. It could be the product type or the option input by user or even the data of user available to be accessed by public. Further exploration might be needed\n",
    "- application_type indicates what type the loan is therefore the data might available before the approval which belong to assesment data"
   ]
  },
  {
   "cell_type": "code",
   "execution_count": 27,
   "metadata": {},
   "outputs": [
    {
     "data": {
      "text/plain": [
       "1    466285\n",
       "Name: policy_code, dtype: int64"
      ]
     },
     "execution_count": 27,
     "metadata": {},
     "output_type": "execute_result"
    }
   ],
   "source": [
    "df['policy_code'].value_counts()"
   ]
  },
  {
   "cell_type": "markdown",
   "metadata": {},
   "source": [
    "<b>Further notes</b> :\n",
    "- policy_code in this data only consist of 1 value therefore it can be ignored and categorized into inactive data same as columns with missing data"
   ]
  },
  {
   "cell_type": "code",
   "execution_count": 28,
   "metadata": {},
   "outputs": [],
   "source": [
    "assementDataColumns.extend(['application_type'])\n",
    "loanActivityDataColumns.extend(['collection_recovery_fee', 'last_pymnt_amnt'])"
   ]
  },
  {
   "cell_type": "markdown",
   "metadata": {},
   "source": [
    "As a checkpoint we need to make sure all columns from No Null category is already categorized into assesment and loan activity data."
   ]
  },
  {
   "cell_type": "code",
   "execution_count": 29,
   "metadata": {},
   "outputs": [
    {
     "name": "stdout",
     "output_type": "stream",
     "text": [
      "assementDataColumns include 13 columns\n",
      "loanActivityDataColumns include 20 columns\n",
      "totally all categorized columns are 33\n"
     ]
    }
   ],
   "source": [
    "print('assementDataColumns include',str(len(assementDataColumns)),'columns')\n",
    "print('loanActivityDataColumns include',str(len(loanActivityDataColumns)),'columns')\n",
    "print('totally all categorized columns are',str(len(loanActivityDataColumns) +len(assementDataColumns)))"
   ]
  },
  {
   "cell_type": "markdown",
   "metadata": {},
   "source": [
    "so from 34 columns, 33 already categorized. the 1 column that are not included are the policy_code as it only contain 1 kind of input which will be regarded as inactive column."
   ]
  },
  {
   "cell_type": "markdown",
   "metadata": {},
   "source": [
    "### Semi null columns"
   ]
  },
  {
   "cell_type": "code",
   "execution_count": 30,
   "metadata": {},
   "outputs": [
    {
     "data": {
      "text/plain": [
       "['emp_title', 'emp_length', 'annual_inc', 'desc', 'title']"
      ]
     },
     "execution_count": 30,
     "metadata": {},
     "output_type": "execute_result"
    }
   ],
   "source": [
    "semiNullColumn[:5]"
   ]
  },
  {
   "cell_type": "markdown",
   "metadata": {},
   "source": [
    "| Table Name | Table Description | Category |\n",
    "| --- | --- | --- |\n",
    "| emp_title | The job title supplied by the Borrower when applying for the loan. Employer Title replaces Employer Name for all loans listed after 9/23/2013 | Assesment data |\n",
    "| emp_length | Employment length in years. Possible values are between 0 and 10 where 0 means less than one year and 10 means ten or more years.  | Assesment data |\n",
    "| annual_inc | The self-reported annual income provided by the borrower during registration. | Assesment data |\n",
    "| desc | Loan description provided by the borrower | Assesment data |\n",
    "| title | The loan title provided by the borrower | Assesment data |\n",
    "\n",
    "<br><br>\n",
    "<b>Notes</b> :\n",
    "- based on the description, as these 5 columns are input by the user, they will belong to Assesment data"
   ]
  },
  {
   "cell_type": "code",
   "execution_count": 31,
   "metadata": {},
   "outputs": [],
   "source": [
    "assementDataColumns.extend(semiNullColumn[:5])"
   ]
  },
  {
   "cell_type": "code",
   "execution_count": 32,
   "metadata": {},
   "outputs": [
    {
     "data": {
      "text/plain": [
       "['delinq_2yrs',\n",
       " 'earliest_cr_line',\n",
       " 'inq_last_6mths',\n",
       " 'mths_since_last_delinq',\n",
       " 'mths_since_last_record']"
      ]
     },
     "execution_count": 32,
     "metadata": {},
     "output_type": "execute_result"
    }
   ],
   "source": [
    "semiNullColumn[5:10]"
   ]
  },
  {
   "cell_type": "markdown",
   "metadata": {},
   "source": [
    "| Table Name | Table Description | Category |\n",
    "| --- | --- | --- |\n",
    "| delinq_2yrs | The number of 30+ days past-due incidences of delinquency in the borrower's credit file for the past 2 years | Assesment data |\n",
    "| earliest_cr_line | The month the borrower's earliest reported credit line was opened  | Assesment data |\n",
    "| inq_last_6mths | Number of credit inquiries in past 12 months | Assesment data |\n",
    "| mths_since_last_delinq | The number of months since the borrower's last delinquency | Assesment data |\n",
    "| mths_since_last_record | The number of months since the last public record | Assesment data |\n",
    "\n",
    "<br><br>\n",
    "<b>Notes</b> :\n",
    "- based on the description, these 5 columns are datas available to be accessed to helps assesing past history of the user hence they will belong to Assesment data"
   ]
  },
  {
   "cell_type": "code",
   "execution_count": 33,
   "metadata": {},
   "outputs": [],
   "source": [
    "assementDataColumns.extend(semiNullColumn[5:10])"
   ]
  },
  {
   "cell_type": "code",
   "execution_count": 34,
   "metadata": {},
   "outputs": [
    {
     "data": {
      "text/plain": [
       "['open_acc', 'pub_rec', 'revol_util', 'total_acc', 'last_pymnt_d']"
      ]
     },
     "execution_count": 34,
     "metadata": {},
     "output_type": "execute_result"
    }
   ],
   "source": [
    "semiNullColumn[10:15]"
   ]
  },
  {
   "cell_type": "markdown",
   "metadata": {},
   "source": [
    "| Table Name | Table Description | Category |\n",
    "| --- | --- | --- |\n",
    "| open_acc | The number of open credit lines in the borrower's credit file | Assesment data |\n",
    "| pub_rec | Number of derogatory public records  | Assesment data |\n",
    "| revol_util | Revolving line utilization rate, or the amount of credit the borrower is using relative to all available revolving credit. | Loan activity data |\n",
    "| total_acc | The total number of credit lines currently in the borrower's credit file | Loan activity data |\n",
    "| last_pymnt_d | Last month payment was received | Loan activity data |\n",
    "\n",
    "<br><br>\n",
    "<b>Notes</b> :\n",
    "- open_acc and pub_rec are the data in which will be available to be accessed pre-approval of the loan therefore it categorized to Assesment data\n",
    "- revol_util, total_acc, and last_pymnt_d indicated to be current updated data of the borrower's therefore it belong into Loan activity data."
   ]
  },
  {
   "cell_type": "code",
   "execution_count": 35,
   "metadata": {},
   "outputs": [],
   "source": [
    "assementDataColumns.extend(['open_acc', 'open_acc'])\n",
    "loanActivityDataColumns.extend(['revol_util', 'total_acc', 'last_pymnt_d'])"
   ]
  },
  {
   "cell_type": "code",
   "execution_count": 36,
   "metadata": {},
   "outputs": [
    {
     "data": {
      "text/plain": [
       "['next_pymnt_d',\n",
       " 'last_credit_pull_d',\n",
       " 'collections_12_mths_ex_med',\n",
       " 'mths_since_last_major_derog',\n",
       " 'acc_now_delinq']"
      ]
     },
     "execution_count": 36,
     "metadata": {},
     "output_type": "execute_result"
    }
   ],
   "source": [
    "semiNullColumn[15:20]"
   ]
  },
  {
   "cell_type": "markdown",
   "metadata": {},
   "source": [
    "| Table Name | Table Description | Category |\n",
    "| --- | --- | --- |\n",
    "| next_pymnt_d | Next scheduled payment date | Loan activity data |\n",
    "| last_credit_pull_d |   |  |\n",
    "| collections_12_mths_ex_med | Number of collections in 12 months excluding medical collections | Loan activity data |\n",
    "| mths_since_last_major_derog | Months since most recent 90-day or worse rating | Assesment data |\n",
    "| acc_now_delinq | The number of accounts on which the borrower is now delinquent. | Assesment data |\n",
    "\n",
    "<br><br>\n",
    "<b>Notes</b> :\n",
    "- next_pymnt_d will be available if the user is a borrower, therefore it belongs to Loan activity data\n",
    "- last_credit_pull_d does not have a description, further exploration needed\n",
    "- collections_12_mths_ex_med can be assumed as the collection belong to current loan therefore it will be a Loan activity data\n",
    "- mths_since_last_major_derog and acc_now_delinq, assuming these columns are notes or record available to be accessed it wull belong to Assesment data"
   ]
  },
  {
   "cell_type": "code",
   "execution_count": 37,
   "metadata": {},
   "outputs": [
    {
     "data": {
      "text/plain": [
       "<bound method IndexOpsMixin.value_counts of 0         Jan-16\n",
       "1         Sep-13\n",
       "2         Jan-16\n",
       "3         Jan-15\n",
       "4         Jan-16\n",
       "           ...  \n",
       "466280    Jan-16\n",
       "466281    Jan-16\n",
       "466282    Dec-15\n",
       "466283    Apr-15\n",
       "466284    Jan-16\n",
       "Name: last_credit_pull_d, Length: 466285, dtype: object>"
      ]
     },
     "execution_count": 37,
     "metadata": {},
     "output_type": "execute_result"
    }
   ],
   "source": [
    "df['last_credit_pull_d'].value_counts"
   ]
  },
  {
   "cell_type": "code",
   "execution_count": 38,
   "metadata": {},
   "outputs": [
    {
     "data": {
      "text/html": [
       "<div>\n",
       "<style scoped>\n",
       "    .dataframe tbody tr th:only-of-type {\n",
       "        vertical-align: middle;\n",
       "    }\n",
       "\n",
       "    .dataframe tbody tr th {\n",
       "        vertical-align: top;\n",
       "    }\n",
       "\n",
       "    .dataframe thead th {\n",
       "        text-align: right;\n",
       "    }\n",
       "</style>\n",
       "<table border=\"1\" class=\"dataframe\">\n",
       "  <thead>\n",
       "    <tr style=\"text-align: right;\">\n",
       "      <th></th>\n",
       "      <th>last_pymnt_d</th>\n",
       "      <th>last_credit_pull_d</th>\n",
       "    </tr>\n",
       "  </thead>\n",
       "  <tbody>\n",
       "    <tr>\n",
       "      <th>0</th>\n",
       "      <td>Jan-15</td>\n",
       "      <td>Jan-16</td>\n",
       "    </tr>\n",
       "    <tr>\n",
       "      <th>1</th>\n",
       "      <td>Apr-13</td>\n",
       "      <td>Sep-13</td>\n",
       "    </tr>\n",
       "    <tr>\n",
       "      <th>2</th>\n",
       "      <td>Jun-14</td>\n",
       "      <td>Jan-16</td>\n",
       "    </tr>\n",
       "    <tr>\n",
       "      <th>3</th>\n",
       "      <td>Jan-15</td>\n",
       "      <td>Jan-15</td>\n",
       "    </tr>\n",
       "    <tr>\n",
       "      <th>4</th>\n",
       "      <td>Jan-16</td>\n",
       "      <td>Jan-16</td>\n",
       "    </tr>\n",
       "    <tr>\n",
       "      <th>5</th>\n",
       "      <td>Jan-15</td>\n",
       "      <td>Sep-15</td>\n",
       "    </tr>\n",
       "    <tr>\n",
       "      <th>6</th>\n",
       "      <td>Jan-16</td>\n",
       "      <td>Jan-16</td>\n",
       "    </tr>\n",
       "    <tr>\n",
       "      <th>7</th>\n",
       "      <td>Jan-15</td>\n",
       "      <td>Dec-14</td>\n",
       "    </tr>\n",
       "    <tr>\n",
       "      <th>8</th>\n",
       "      <td>Apr-12</td>\n",
       "      <td>Aug-12</td>\n",
       "    </tr>\n",
       "    <tr>\n",
       "      <th>9</th>\n",
       "      <td>Nov-12</td>\n",
       "      <td>Mar-13</td>\n",
       "    </tr>\n",
       "  </tbody>\n",
       "</table>\n",
       "</div>"
      ],
      "text/plain": [
       "  last_pymnt_d last_credit_pull_d\n",
       "0       Jan-15             Jan-16\n",
       "1       Apr-13             Sep-13\n",
       "2       Jun-14             Jan-16\n",
       "3       Jan-15             Jan-15\n",
       "4       Jan-16             Jan-16\n",
       "5       Jan-15             Sep-15\n",
       "6       Jan-16             Jan-16\n",
       "7       Jan-15             Dec-14\n",
       "8       Apr-12             Aug-12\n",
       "9       Nov-12             Mar-13"
      ]
     },
     "execution_count": 38,
     "metadata": {},
     "output_type": "execute_result"
    }
   ],
   "source": [
    "df[['last_pymnt_d','last_credit_pull_d']][:10]"
   ]
  },
  {
   "cell_type": "markdown",
   "metadata": {},
   "source": [
    "Assuming the data format is mmm-yy, it seems last_credit_pull_d is the activity while loan is active, therefore it will belong inti Loan activity data"
   ]
  },
  {
   "cell_type": "code",
   "execution_count": 39,
   "metadata": {},
   "outputs": [],
   "source": [
    "assementDataColumns.extend(['next_pymnt_d', 'last_credit_pull_d', 'collections_12_mths_ex_med'])\n",
    "loanActivityDataColumns.extend(['mths_since_last_major_derog', 'acc_now_delinq'])"
   ]
  },
  {
   "cell_type": "code",
   "execution_count": 40,
   "metadata": {},
   "outputs": [
    {
     "data": {
      "text/plain": [
       "['tot_coll_amt', 'tot_cur_bal', 'total_rev_hi_lim']"
      ]
     },
     "execution_count": 40,
     "metadata": {},
     "output_type": "execute_result"
    }
   ],
   "source": [
    "semiNullColumn[20:]"
   ]
  },
  {
   "cell_type": "markdown",
   "metadata": {},
   "source": [
    "| Table Name | Table Description | Category |\n",
    "| --- | --- | --- |\n",
    "| tot_coll_amt |  | Loan activity data |\n",
    "| tot_cur_bal |   | Loan activity data |\n",
    "| total_rev_hi_lim | Total revolving high credit/credit limit | Loan activity data |\n",
    "\n",
    "<br><br>\n",
    "<b>Notes</b> :\n",
    "- based on the name structure, these three columns can be assumed to be a recorded data while the loan is active. therefore they belong to Loan activity data"
   ]
  },
  {
   "cell_type": "code",
   "execution_count": 41,
   "metadata": {},
   "outputs": [],
   "source": [
    "loanActivityDataColumns.extend(semiNullColumn[20:])"
   ]
  },
  {
   "cell_type": "markdown",
   "metadata": {},
   "source": [
    "As another checkpoint, we will make sure that all category does not have any duplicate."
   ]
  },
  {
   "cell_type": "code",
   "execution_count": 42,
   "metadata": {},
   "outputs": [
    {
     "name": "stdout",
     "output_type": "stream",
     "text": [
      "assementDataColumns include 28 columns\n",
      "loanActivityDataColumns include 28 columns\n",
      "totally all categorized columns are 56\n"
     ]
    }
   ],
   "source": [
    "print('assementDataColumns include',str(len(assementDataColumns)),'columns')\n",
    "print('loanActivityDataColumns include',str(len(loanActivityDataColumns)),'columns')\n",
    "print('totally all categorized columns are',str(len(loanActivityDataColumns) +len(assementDataColumns)))"
   ]
  },
  {
   "cell_type": "markdown",
   "metadata": {},
   "source": [
    "With 34 full columns and 23 columns semi null, there will be total of 57 columns. but since the policy_code column disregarded, there will be total of 56 columns"
   ]
  },
  {
   "cell_type": "markdown",
   "metadata": {},
   "source": [
    "## Saving column category\n",
    "to enable the easier access to the list we will create a DataFrame then save it into a csv file"
   ]
  },
  {
   "cell_type": "code",
   "execution_count": 43,
   "metadata": {},
   "outputs": [
    {
     "data": {
      "text/html": [
       "<div>\n",
       "<style scoped>\n",
       "    .dataframe tbody tr th:only-of-type {\n",
       "        vertical-align: middle;\n",
       "    }\n",
       "\n",
       "    .dataframe tbody tr th {\n",
       "        vertical-align: top;\n",
       "    }\n",
       "\n",
       "    .dataframe thead th {\n",
       "        text-align: right;\n",
       "    }\n",
       "</style>\n",
       "<table border=\"1\" class=\"dataframe\">\n",
       "  <thead>\n",
       "    <tr style=\"text-align: right;\">\n",
       "      <th></th>\n",
       "      <th>Category</th>\n",
       "      <th>columns</th>\n",
       "    </tr>\n",
       "  </thead>\n",
       "  <tbody>\n",
       "    <tr>\n",
       "      <th>0</th>\n",
       "      <td>Assesment Data</td>\n",
       "      <td>[id, member_id, loan_amnt, term, home_ownershi...</td>\n",
       "    </tr>\n",
       "    <tr>\n",
       "      <th>1</th>\n",
       "      <td>Loan Activity data</td>\n",
       "      <td>[funded_amnt, funded_amnt_inv, int_rate, insta...</td>\n",
       "    </tr>\n",
       "  </tbody>\n",
       "</table>\n",
       "</div>"
      ],
      "text/plain": [
       "             Category                                            columns\n",
       "0      Assesment Data  [id, member_id, loan_amnt, term, home_ownershi...\n",
       "1  Loan Activity data  [funded_amnt, funded_amnt_inv, int_rate, insta..."
      ]
     },
     "execution_count": 43,
     "metadata": {},
     "output_type": "execute_result"
    }
   ],
   "source": [
    "dict = {'Category': ['Assesment Data', 'Loan Activity data'], 'columns': [assementDataColumns, loanActivityDataColumns]}  \n",
    "\n",
    "columnCatDF = pd.DataFrame(dict) \n",
    "columnCatDF"
   ]
  },
  {
   "cell_type": "code",
   "execution_count": 44,
   "metadata": {},
   "outputs": [],
   "source": [
    "columnCatDF.to_csv('columnCategory.csv', index=False) "
   ]
  }
 ],
 "metadata": {
  "kernelspec": {
   "display_name": "Python 3.9.12 ('base')",
   "language": "python",
   "name": "python3"
  },
  "language_info": {
   "codemirror_mode": {
    "name": "ipython",
    "version": 3
   },
   "file_extension": ".py",
   "mimetype": "text/x-python",
   "name": "python",
   "nbconvert_exporter": "python",
   "pygments_lexer": "ipython3",
   "version": "3.9.12"
  },
  "orig_nbformat": 4,
  "vscode": {
   "interpreter": {
    "hash": "3d597f4c481aa0f25dceb95d2a0067e73c0966dcbd003d741d821a7208527ecf"
   }
  }
 },
 "nbformat": 4,
 "nbformat_minor": 2
}
